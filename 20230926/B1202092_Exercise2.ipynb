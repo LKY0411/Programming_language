{
  "nbformat": 4,
  "nbformat_minor": 0,
  "metadata": {
    "colab": {
      "provenance": []
    },
    "kernelspec": {
      "name": "python3",
      "display_name": "Python 3"
    },
    "language_info": {
      "name": "python"
    }
  },
  "cells": [
    {
      "cell_type": "code",
      "source": [
        "a='C,B,A'\n",
        "b=['F','G','H']\n",
        "c=a.split(',')+b\n",
        "c[0]='K'\n",
        "print(c.pop(2))\n",
        "del c[1:4]\n",
        "c.append('U')\n",
        "print(c)"
      ],
      "metadata": {
        "colab": {
          "base_uri": "https://localhost:8080/"
        },
        "id": "wG2qPGKYfZon",
        "outputId": "94e4f692-17a1-4c92-efdf-c7fd1745a8c4"
      },
      "execution_count": null,
      "outputs": [
        {
          "output_type": "stream",
          "name": "stdout",
          "text": [
            "A\n",
            "['K', 'H', 'U']\n"
          ]
        }
      ]
    },
    {
      "cell_type": "code",
      "source": [
        "a= int(input('身高為(cm)'))\n",
        "b= int(input('體重為(kg)'))\n",
        "b/= (0.01*a)**2\n",
        "print('BMI:',b)\n",
        "if b<18.5:\n",
        "  print('體位過輕')\n",
        "elif b<24:\n",
        "  print('體位適中')\n",
        "elif b<27:\n",
        "  print('體位過重')\n",
        "elif b>27:\n",
        "  print('體位肥胖')"
      ],
      "metadata": {
        "colab": {
          "base_uri": "https://localhost:8080/"
        },
        "id": "ORdF2Dmblxw1",
        "outputId": "e1b692c4-c8e4-4dfd-995c-744fea21f6d8"
      },
      "execution_count": null,
      "outputs": [
        {
          "output_type": "stream",
          "name": "stdout",
          "text": [
            "身高為(cm)165\n",
            "體重為(kg)60\n",
            "BMI: 22.038567493112943\n",
            "體位適中\n"
          ]
        }
      ]
    }
  ]
}