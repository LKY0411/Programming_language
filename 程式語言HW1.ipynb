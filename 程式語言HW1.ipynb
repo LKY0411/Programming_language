{
  "nbformat": 4,
  "nbformat_minor": 0,
  "metadata": {
    "colab": {
      "provenance": []
    },
    "kernelspec": {
      "name": "python3",
      "display_name": "Python 3"
    },
    "language_info": {
      "name": "python"
    }
  },
  "cells": [
    {
      "cell_type": "code",
      "execution_count": null,
      "metadata": {
        "colab": {
          "base_uri": "https://localhost:8080/"
        },
        "id": "cP26gkR-fyJj",
        "outputId": "43225b4f-707c-4545-b850-d226c66f5322"
      },
      "outputs": [
        {
          "output_type": "stream",
          "name": "stdout",
          "text": [
            "Hello World!!!\n"
          ]
        }
      ],
      "source": [
        "p='Hello World!!!'\n",
        "print(p)"
      ]
    },
    {
      "cell_type": "code",
      "source": [
        "a=77\n",
        "b=91\n",
        "y=a*b\n",
        "print(y)"
      ],
      "metadata": {
        "colab": {
          "base_uri": "https://localhost:8080/"
        },
        "id": "dYIAeyQlgOLn",
        "outputId": "72853ae8-e3a8-46dc-b6f3-44a962f800cb"
      },
      "execution_count": null,
      "outputs": [
        {
          "output_type": "stream",
          "name": "stdout",
          "text": [
            "7007\n"
          ]
        }
      ]
    },
    {
      "cell_type": "code",
      "source": [
        "print('Nice Computer Class')"
      ],
      "metadata": {
        "colab": {
          "base_uri": "https://localhost:8080/"
        },
        "id": "XYbSoBIagibm",
        "outputId": "9d6aec0c-22ba-4d9d-e06b-de31e0912826"
      },
      "execution_count": null,
      "outputs": [
        {
          "output_type": "stream",
          "name": "stdout",
          "text": [
            "Nice Computer Class\n"
          ]
        }
      ]
    }
  ]
}