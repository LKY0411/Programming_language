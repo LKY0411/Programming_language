{
  "nbformat": 4,
  "nbformat_minor": 0,
  "metadata": {
    "colab": {
      "provenance": []
    },
    "kernelspec": {
      "name": "python3",
      "display_name": "Python 3"
    },
    "language_info": {
      "name": "python"
    }
  },
  "cells": [
    {
      "cell_type": "code",
      "execution_count": 1,
      "metadata": {
        "id": "k-RVNOJqc_Ps",
        "colab": {
          "base_uri": "https://localhost:8080/"
        },
        "outputId": "1ec5077a-c816-43b3-b402-b3c5cf8ffc23"
      },
      "outputs": [
        {
          "output_type": "stream",
          "name": "stdout",
          "text": [
            "65\n",
            "61\n"
          ]
        }
      ],
      "source": [
        "num = int(input())\n",
        "check = 0\n",
        "for i in range(1,(num+1)):\n",
        "  if num % i == 0 and i != 1 and i != num:\n",
        "    check = 1\n",
        "if check == 0:\n",
        "  print(num)\n",
        "\n",
        "if check != 0:\n",
        "  max = 0\n",
        "  for i in range(1,(num+1)):\n",
        "    check = 0\n",
        "    for j in range(1,(i+1)):\n",
        "      if i % j == 0 and j != 1 and j != i:\n",
        "        check = 1\n",
        "    if check != 1:\n",
        "      max = i\n",
        "  print(max)"
      ]
    },
    {
      "cell_type": "code",
      "source": [
        "num = input('請輸入數字:')\n",
        "num_l = num.split(',')\n",
        "num_list = [int(i) for i in num_l]\n",
        "print_list = []\n",
        "for i in range(len(num_list)):\n",
        "  print_list.append(0)\n",
        "for i in range(len(num_list)):\n",
        "  count = 0\n",
        "  for j in range(len(num_list)):\n",
        "    if num_list[j] < num_list[i]:\n",
        "      count += 1\n",
        "  print_list[i] = count\n",
        "print(print_list)"
      ],
      "metadata": {
        "id": "ajZbVFKYzNUg",
        "colab": {
          "base_uri": "https://localhost:8080/"
        },
        "outputId": "3d05101a-bd07-4054-8b13-8342f944c12d"
      },
      "execution_count": 2,
      "outputs": [
        {
          "output_type": "stream",
          "name": "stdout",
          "text": [
            "請輸入數字:6,8,1,3,4,7\n",
            "[3, 5, 0, 1, 2, 4]\n"
          ]
        }
      ]
    },
    {
      "cell_type": "code",
      "source": [
        "a = input('輸入:')\n",
        "b = list(a)\n",
        "c = [int(i) for i in b]\n",
        "d = []\n",
        "for i in range(len(c)):\n",
        "  d.append(0)\n",
        "for i in range(len(c)):\n",
        "  for j in range(len(c)):\n",
        "    if c[j] == 1 and j-i >= 0:\n",
        "      d[i] += j-i\n",
        "    elif c[j] == 1 and j-i < 0:\n",
        "      d[i] += i-j\n",
        "print(d)"
      ],
      "metadata": {
        "id": "VuUtjaGOzXi6",
        "colab": {
          "base_uri": "https://localhost:8080/"
        },
        "outputId": "0fe7d5bf-c3bf-47be-cab0-62d85d01b666"
      },
      "execution_count": 3,
      "outputs": [
        {
          "output_type": "stream",
          "name": "stdout",
          "text": [
            "輸入:0100101\n",
            "[11, 8, 7, 6, 5, 6, 7]\n"
          ]
        }
      ]
    }
  ]
}