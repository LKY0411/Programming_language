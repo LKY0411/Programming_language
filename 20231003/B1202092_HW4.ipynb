{
  "nbformat": 4,
  "nbformat_minor": 0,
  "metadata": {
    "colab": {
      "provenance": []
    },
    "kernelspec": {
      "name": "python3",
      "display_name": "Python 3"
    },
    "language_info": {
      "name": "python"
    }
  },
  "cells": [
    {
      "cell_type": "code",
      "execution_count": 19,
      "metadata": {
        "colab": {
          "base_uri": "https://localhost:8080/"
        },
        "id": "6a-dl3F6wzrX",
        "outputId": "a7af325a-5a62-4a5f-f40e-a21116dc60f9"
      },
      "outputs": [
        {
          "output_type": "stream",
          "name": "stdout",
          "text": [
            "請輸入五項分數65 55 60 87 17\n",
            "60.0\n"
          ]
        }
      ],
      "source": [
        "a= input(('請輸入五項分數')).split()\n",
        "a=[int(i)for i in a]\n",
        "a.sort()\n",
        "del a[0]\n",
        "del a[(-1)]\n",
        "b= sum(int(n) for n in a)\n",
        "print(b/len(a))"
      ]
    },
    {
      "cell_type": "code",
      "source": [
        "x=(input('請輸入兩個數字及運算符號')).split()\n",
        "x[0]=int(x[0])\n",
        "x[1]=int(x[1])\n",
        "if x[2]=='+':\n",
        "  print(x[0]+x[1])\n",
        "elif x[2]=='-':\n",
        "  print(x[0]-x[1])\n",
        "elif x[2]=='*':\n",
        "  print(x[0]*x[1])\n",
        "elif x[2]=='/':\n",
        "  print(x[0]/x[1])"
      ],
      "metadata": {
        "id": "6Pvcz1OOyrtL",
        "colab": {
          "base_uri": "https://localhost:8080/"
        },
        "outputId": "801b06c2-18bf-4d02-c463-d4031b10bc5c"
      },
      "execution_count": 18,
      "outputs": [
        {
          "output_type": "stream",
          "name": "stdout",
          "text": [
            "請輸入兩個數字及運算符號50 5 *\n",
            "250\n"
          ]
        }
      ]
    },
    {
      "cell_type": "code",
      "source": [
        "a= int(input('請輸入年份'))\n",
        "if a<=1582:\n",
        "  if a%4==0:\n",
        "    print('閏年')\n",
        "  else:\n",
        "    print('平年')\n",
        "elif a>1582:\n",
        "  if a%100==0 and a%400!=0:\n",
        "    print('平年')\n",
        "  elif a%4==0 or a%400==0:\n",
        "    print('閏年')\n",
        "  else:\n",
        "    print('平年')"
      ],
      "metadata": {
        "colab": {
          "base_uri": "https://localhost:8080/"
        },
        "id": "BGbv3dkg1ZVJ",
        "outputId": "765dd321-80f0-4ee0-f9e8-961f4272617e"
      },
      "execution_count": 14,
      "outputs": [
        {
          "output_type": "stream",
          "name": "stdout",
          "text": [
            "請輸入年份1900\n",
            "平年\n"
          ]
        }
      ]
    }
  ]
}
