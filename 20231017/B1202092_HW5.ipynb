{
  "nbformat": 4,
  "nbformat_minor": 0,
  "metadata": {
    "colab": {
      "provenance": []
    },
    "kernelspec": {
      "name": "python3",
      "display_name": "Python 3"
    },
    "language_info": {
      "name": "python"
    }
  },
  "cells": [
    {
      "cell_type": "code",
      "execution_count": null,
      "metadata": {
        "colab": {
          "base_uri": "https://localhost:8080/"
        },
        "id": "DKRvt7juc8pr",
        "outputId": "8cb920b3-aa91-42e8-90c9-9e93127c4591"
      },
      "outputs": [
        {
          "output_type": "stream",
          "name": "stdout",
          "text": [
            "        *\n",
            "       ***\n",
            "      *****\n",
            "     *******\n",
            "    *********\n",
            "   ***********\n",
            "  *************\n",
            " ***************\n",
            "*****************\n",
            "       ***\n",
            "       ***\n",
            "       ***\n",
            "       ***\n",
            "       ***\n"
          ]
        }
      ],
      "source": [
        "x=8\n",
        "y=1\n",
        "for a in range(9):\n",
        "  print((' ')*(x)+('*')*(y))\n",
        "  x-=1\n",
        "  y+=2\n",
        "for b in range(5):\n",
        "  print((' ')*7+('*')*3)"
      ]
    },
    {
      "cell_type": "code",
      "source": [
        "import random\n",
        "ans=random.sample(range(1,10),4)\n",
        "print(ans)\n",
        "num = 0\n",
        "x = y = z = 0\n",
        "\n",
        "while(x!=4):\n",
        "  guess=list(input('請輸入四個數字(不會重複):'))\n",
        "  x = y = z = 0\n",
        "\n",
        "  while(len(guess)>4):\n",
        "    num += 0\n",
        "    guess=list(input('輸入數字過多，請輸入四個數字(不會重複):'))\n",
        "    continue\n",
        "\n",
        "  else:\n",
        "    num += 1\n",
        "    for i in guess:\n",
        "      if int(guess[n])==ans[n]:\n",
        "        x += 1\n",
        "      else:\n",
        "        if int(i) in ans:\n",
        "          y += 1\n",
        "    z += 1\n",
        "\n",
        "  output=','.join(guess).replace(',','')\n",
        "  print(f'{output}:{x}A{y}B')\n",
        "print(f'答對了!總共猜了{num}次')"
      ],
      "metadata": {
        "id": "pd8d7P5wW72o",
        "colab": {
          "base_uri": "https://localhost:8080/"
        },
        "outputId": "e8c6e1d1-ac18-413b-b5f0-410a74a4113e"
      },
      "execution_count": 74,
      "outputs": [
        {
          "output_type": "stream",
          "name": "stdout",
          "text": [
            "[2, 1, 8, 6]\n",
            "請輸入四個數字(不會重複):45678\n",
            "輸入數字過多，請輸入四個數字(不會重複):6594\n",
            "6594:0A1B\n",
            "請輸入四個數字(不會重複):6215\n",
            "6215:0A3B\n",
            "請輸入四個數字(不會重複):8612\n",
            "8612:0A4B\n",
            "請輸入四個數字(不會重複):2186\n",
            "2186:4A0B\n",
            "答對了!總共猜了4次\n"
          ]
        }
      ]
    }
  ]
}