{
  "nbformat": 4,
  "nbformat_minor": 0,
  "metadata": {
    "colab": {
      "provenance": []
    },
    "kernelspec": {
      "name": "python3",
      "display_name": "Python 3"
    },
    "language_info": {
      "name": "python"
    }
  },
  "cells": [
    {
      "cell_type": "code",
      "execution_count": null,
      "metadata": {
        "colab": {
          "base_uri": "https://localhost:8080/"
        },
        "id": "DKRvt7juc8pr",
        "outputId": "8cb920b3-aa91-42e8-90c9-9e93127c4591"
      },
      "outputs": [
        {
          "output_type": "stream",
          "name": "stdout",
          "text": [
            "        *\n",
            "       ***\n",
            "      *****\n",
            "     *******\n",
            "    *********\n",
            "   ***********\n",
            "  *************\n",
            " ***************\n",
            "*****************\n",
            "       ***\n",
            "       ***\n",
            "       ***\n",
            "       ***\n",
            "       ***\n"
          ]
        }
      ],
      "source": [
        "x=8\n",
        "y=1\n",
        "for a in range(9):\n",
        "  print((' ')*(x)+('*')*(y))\n",
        "  x-=1\n",
        "  y+=2\n",
        "for b in range(5):\n",
        "  print((' ')*7+('*')*3)"
      ]
    },
    {
      "cell_type": "code",
      "source": [
        "import random\n",
        "ans=random.sample(range(1,10),4)\n",
        "print('答案:',ans)\n",
        "num = 0\n",
        "x = y = n = 0\n",
        "\n",
        "while(x!=4):\n",
        "  guess=list(input('請輸入四個數字(不會重複):'))\n",
        "  x = y = n = 0\n",
        "\n",
        "  while(len(guess)>4):\n",
        "    x = y = n = 0\n",
        "    num += 0\n",
        "    guess=list(input('輸入數字過多，請輸入四個數字(不會重複):'))\n",
        "    continue\n",
        "\n",
        "  else:\n",
        "    num += 1\n",
        "    x = y = n = 0\n",
        "    for i in guess:\n",
        "      if int(guess[n]) == ans[n]:\n",
        "        x += 1\n",
        "      else:\n",
        "        if int(i) in ans:\n",
        "          y += 1\n",
        "      n += 1\n",
        "    output = ','.join(guess).replace(',','')\n",
        "  print(f'{output}: {x}A{y}B')\n",
        "print(f'答對了!總共猜了 {num} 次')"
      ],
      "metadata": {
        "colab": {
          "base_uri": "https://localhost:8080/"
        },
        "id": "iAI5QM6GkWW3",
        "outputId": "68d7147b-5ed3-41a8-96aa-b77085c6636e"
      },
      "execution_count": 105,
      "outputs": [
        {
          "output_type": "stream",
          "name": "stdout",
          "text": [
            "答案: [2, 7, 6, 5]\n",
            "請輸入四個數字(不會重複):45678\n",
            "輸入數字過多，請輸入四個數字(不會重複):9658\n",
            "9658: 0A2B\n",
            "請輸入四個數字(不會重複):2756\n",
            "2756: 2A2B\n",
            "請輸入四個數字(不會重複):5672\n",
            "5672: 0A4B\n",
            "請輸入四個數字(不會重複):2765\n",
            "2765: 4A0B\n",
            "答對了!總共猜了 4 次\n"
          ]
        }
      ]
    }
  ]
}