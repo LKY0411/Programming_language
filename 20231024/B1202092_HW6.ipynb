{
  "nbformat": 4,
  "nbformat_minor": 0,
  "metadata": {
    "colab": {
      "provenance": []
    },
    "kernelspec": {
      "name": "python3",
      "display_name": "Python 3"
    },
    "language_info": {
      "name": "python"
    }
  },
  "cells": [
    {
      "cell_type": "code",
      "execution_count": null,
      "metadata": {
        "id": "DSPpcFLQa2h1",
        "colab": {
          "base_uri": "https://localhost:8080/"
        },
        "outputId": "96bf7110-8a65-41a2-916a-fd51451a3a5b"
      },
      "outputs": [
        {
          "output_type": "stream",
          "name": "stdout",
          "text": [
            "聖誕樹層數:11\n",
            "          *\n",
            "         ***\n",
            "        *****\n",
            "       *******\n",
            "      *********\n",
            "     ***********\n",
            "    *************\n",
            "   ***************\n",
            "  *****************\n",
            " *******************\n",
            "*********************\n",
            "         ***\n",
            "         ***\n",
            "         ***\n",
            "         ***\n",
            "         ***\n"
          ]
        }
      ],
      "source": [
        "def f(c):\n",
        "  x=c-1\n",
        "  y=1\n",
        "  for a in range(c):\n",
        "    print((' ')*(x)+('*')*(y))\n",
        "    x-=1\n",
        "    y+=2\n",
        "  for b in range(5):\n",
        "    print((' ')*((c)-2)+('*')*3)\n",
        "\n",
        "height=int(input('聖誕樹層數:'))\n",
        "f(height)"
      ]
    },
    {
      "cell_type": "code",
      "source": [
        "def bmi(height,weight):\n",
        "  result = weight/(((height)/100)**2)\n",
        "  return result\n",
        "\n",
        "try:\n",
        "  a= int(input('身高(cm):'))\n",
        "  b= int(input('體重(kg):'))\n",
        "  c= bmi(a,b)\n",
        "  if c<18.5:\n",
        "    print('BMI:',(c))\n",
        "    print('體位過輕')\n",
        "  elif 18.5<=c<24:\n",
        "    print('BMI:',(c))\n",
        "    print('體位適中')\n",
        "  elif 24<=c<27:\n",
        "    print('BMI:',(c))\n",
        "    print('體位過重')\n",
        "  else:\n",
        "    print('BMI:',(c))\n",
        "    print('體位肥胖')\n",
        "\n",
        "except:\n",
        "  print('輸入內容錯誤')"
      ],
      "metadata": {
        "colab": {
          "base_uri": "https://localhost:8080/"
        },
        "id": "ZVEBjxlLjqhz",
        "outputId": "0d6d7bc7-2d7d-4245-a8cc-6bd21bd30bcf"
      },
      "execution_count": 2,
      "outputs": [
        {
          "output_type": "stream",
          "name": "stdout",
          "text": [
            "身高(cm):170\n",
            "體重(kg):60\n",
            "BMI: 20.761245674740486\n",
            "體位適中\n"
          ]
        }
      ]
    }
  ]
}
